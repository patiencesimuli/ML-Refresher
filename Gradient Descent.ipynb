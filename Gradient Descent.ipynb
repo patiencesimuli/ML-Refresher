{
 "cells": [
  {
   "cell_type": "code",
   "execution_count": null,
   "id": "921148a2",
   "metadata": {},
   "outputs": [],
   "source": [
    "# Gradient descent is a simple yet powerful optimization technique used in machine learning \n",
    "# To find the minimum of a function\n",
    "# Hill analogy: way to find the lowest point (minimum) on a hill, especially when you can't see the entire hill, and you want to get there step by step.\n",
    "\n",
    "# Starting Point: You begin at some random point on the hill, not knowing where the lowest point is.\n",
    "\n",
    "cur_x = 5 # The algorithm starts at x=3\n",
    "\n",
    "#  Direction of Descent: You check the slope of the hill at your current location. \n",
    "# This slope tells you in which direction the ground is steepest. \n",
    "# You want to go downhill, so you take a step in the opposite direction of the slope.\n",
    "\n",
    "\n",
    "# Step Size: The size of the step you take is called the \"learning rate.\" \n",
    "# If the slope is steep, you take a larger step; if it's shallow, you take a smaller step.\n",
    "\n",
    "rate = 0.1 # Learning rate\n",
    "\n",
    "precision = 0.5 #This tells us when to stop the algorithm\n",
    "previous_step_size = 1 #\n",
    "max_iters = 1000000 # maximum number of iterations iters 8 #iteration counter\n",
    "\n",
    "df = lambda x: 2*(x+5) #Gradient of our function\n",
    "\n",
    "while previous_step_size > precision and iters < max_iters:\n",
    "prev_x = cur_x # Store current x value in prev_x cur x cur_x rate. df (prev_x) # Grad descent\n",
    "\n",
    "previous_step_size = abs(cur_x - prev_x) # Change in x iters iters + 1 # iteration count\n",
    "print(\"Iteration\", iters, \"\\nx value is\", cur_x) # Print iterations\n",
    "print(\"The local minimum occurs at\", cur_x)\n",
    "\n",
    "# Repeat: You keep repeating this process: check the slope, take a step, check the new slope, take another step, and so on. \n",
    "# Gradually, you get closer and closer to the lowest point.\n",
    "# Stop Condition: You can stop when you've taken a certain number of steps or when the slope becomes very close to zero, indicating you're near the bottom."
   ]
  }
 ],
 "metadata": {
  "kernelspec": {
   "display_name": "Python 3 (ipykernel)",
   "language": "python",
   "name": "python3"
  },
  "language_info": {
   "codemirror_mode": {
    "name": "ipython",
    "version": 3
   },
   "file_extension": ".py",
   "mimetype": "text/x-python",
   "name": "python",
   "nbconvert_exporter": "python",
   "pygments_lexer": "ipython3",
   "version": "3.9.7"
  }
 },
 "nbformat": 4,
 "nbformat_minor": 5
}
